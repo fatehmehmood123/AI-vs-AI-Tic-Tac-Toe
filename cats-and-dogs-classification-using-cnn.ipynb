{
 "cells": [
  {
   "cell_type": "code",
   "execution_count": 1,
   "id": "07be5ca5",
   "metadata": {
    "_cell_guid": "b1076dfc-b9ad-4769-8c92-a6c4dae69d19",
    "_uuid": "8f2839f25d086af736a60e9eeb907d3b93b6e0e5",
    "execution": {
     "iopub.execute_input": "2023-11-29T13:21:28.586430Z",
     "iopub.status.busy": "2023-11-29T13:21:28.586041Z",
     "iopub.status.idle": "2023-11-29T13:22:00.884232Z",
     "shell.execute_reply": "2023-11-29T13:22:00.883321Z"
    },
    "papermill": {
     "duration": 32.309072,
     "end_time": "2023-11-29T13:22:00.886837",
     "exception": false,
     "start_time": "2023-11-29T13:21:28.577765",
     "status": "completed"
    },
    "tags": []
   },
   "outputs": [
    {
     "name": "stderr",
     "output_type": "stream",
     "text": [
      "/opt/conda/lib/python3.10/site-packages/scipy/__init__.py:146: UserWarning: A NumPy version >=1.16.5 and <1.23.0 is required for this version of SciPy (detected version 1.23.5\n",
      "  warnings.warn(f\"A NumPy version >={np_minversion} and <{np_maxversion}\"\n"
     ]
    }
   ],
   "source": [
    "import numpy as np # linear algebra\n",
    "import pandas as pd # data processing, CSV file I/O (e.g. pd.read_csv)\n",
    "import matplotlib.pyplot as plt\n",
    "import PIL\n",
    "from sklearn.model_selection import train_test_split\n",
    "from keras.preprocessing.image import ImageDataGenerator\n",
    "from keras.models import Sequential\n",
    "from keras.layers import Dense, Conv2D, Flatten, MaxPooling2D\n",
    "\n",
    "import warnings\n",
    "warnings.filterwarnings('ignore')\n",
    "\n",
    "import os\n",
    "for dirname, _, filenames in os.walk('/kaggle/input'):\n",
    "    for filename in filenames:\n",
    "        os.path.join(dirname, filename)"
   ]
  },
  {
   "cell_type": "markdown",
   "id": "183f8d12",
   "metadata": {
    "papermill": {
     "duration": 0.006966,
     "end_time": "2023-11-29T13:22:00.901478",
     "exception": false,
     "start_time": "2023-11-29T13:22:00.894512",
     "status": "completed"
    },
    "tags": []
   },
   "source": [
    "# Create DataFrame for Input and output"
   ]
  },
  {
   "cell_type": "code",
   "execution_count": 2,
   "id": "dd2e9d72",
   "metadata": {
    "execution": {
     "iopub.execute_input": "2023-11-29T13:22:00.917428Z",
     "iopub.status.busy": "2023-11-29T13:22:00.916828Z",
     "iopub.status.idle": "2023-11-29T13:22:01.005093Z",
     "shell.execute_reply": "2023-11-29T13:22:01.004284Z"
    },
    "papermill": {
     "duration": 0.09856,
     "end_time": "2023-11-29T13:22:01.007147",
     "exception": false,
     "start_time": "2023-11-29T13:22:00.908587",
     "status": "completed"
    },
    "tags": []
   },
   "outputs": [],
   "source": [
    "root_path = \"/kaggle/input/dog-and-cat-classification-dataset/PetImages/\"\n",
    "input_path = []\n",
    "label = []\n",
    "\n",
    "for class_name in os.listdir(root_path):\n",
    "    for path in os.listdir(root_path + class_name):\n",
    "        if class_name == 'Cat':\n",
    "            label.append(0)\n",
    "        else:\n",
    "            label.append(1)\n",
    "        input_path.append(os.path.join(root_path, class_name, path))"
   ]
  },
  {
   "cell_type": "code",
   "execution_count": 3,
   "id": "10a8b998",
   "metadata": {
    "execution": {
     "iopub.execute_input": "2023-11-29T13:22:01.023414Z",
     "iopub.status.busy": "2023-11-29T13:22:01.022613Z",
     "iopub.status.idle": "2023-11-29T13:22:01.027856Z",
     "shell.execute_reply": "2023-11-29T13:22:01.026904Z"
    },
    "papermill": {
     "duration": 0.015716,
     "end_time": "2023-11-29T13:22:01.030177",
     "exception": false,
     "start_time": "2023-11-29T13:22:01.014461",
     "status": "completed"
    },
    "tags": []
   },
   "outputs": [
    {
     "name": "stdout",
     "output_type": "stream",
     "text": [
      "/kaggle/input/dog-and-cat-classification-dataset/PetImages/Dog/7981.jpg 1\n"
     ]
    }
   ],
   "source": [
    "print(input_path[0], label[0])"
   ]
  },
  {
   "cell_type": "markdown",
   "id": "3fcf1339",
   "metadata": {
    "papermill": {
     "duration": 0.007256,
     "end_time": "2023-11-29T13:22:01.044872",
     "exception": false,
     "start_time": "2023-11-29T13:22:01.037616",
     "status": "completed"
    },
    "tags": []
   },
   "source": [
    "#### length of input_path and label "
   ]
  },
  {
   "cell_type": "code",
   "execution_count": 4,
   "id": "5904e147",
   "metadata": {
    "execution": {
     "iopub.execute_input": "2023-11-29T13:22:01.060897Z",
     "iopub.status.busy": "2023-11-29T13:22:01.060594Z",
     "iopub.status.idle": "2023-11-29T13:22:01.068436Z",
     "shell.execute_reply": "2023-11-29T13:22:01.067523Z"
    },
    "papermill": {
     "duration": 0.018299,
     "end_time": "2023-11-29T13:22:01.070485",
     "exception": false,
     "start_time": "2023-11-29T13:22:01.052186",
     "status": "completed"
    },
    "tags": []
   },
   "outputs": [
    {
     "data": {
      "text/plain": [
       "(24998, 24998)"
      ]
     },
     "execution_count": 4,
     "metadata": {},
     "output_type": "execute_result"
    }
   ],
   "source": [
    "len(input_path), len(label)"
   ]
  },
  {
   "cell_type": "code",
   "execution_count": 5,
   "id": "84008d46",
   "metadata": {
    "execution": {
     "iopub.execute_input": "2023-11-29T13:22:01.086567Z",
     "iopub.status.busy": "2023-11-29T13:22:01.086271Z",
     "iopub.status.idle": "2023-11-29T13:22:01.140731Z",
     "shell.execute_reply": "2023-11-29T13:22:01.139758Z"
    },
    "papermill": {
     "duration": 0.06504,
     "end_time": "2023-11-29T13:22:01.142966",
     "exception": false,
     "start_time": "2023-11-29T13:22:01.077926",
     "status": "completed"
    },
    "tags": []
   },
   "outputs": [
    {
     "data": {
      "text/html": [
       "<div>\n",
       "<style scoped>\n",
       "    .dataframe tbody tr th:only-of-type {\n",
       "        vertical-align: middle;\n",
       "    }\n",
       "\n",
       "    .dataframe tbody tr th {\n",
       "        vertical-align: top;\n",
       "    }\n",
       "\n",
       "    .dataframe thead th {\n",
       "        text-align: right;\n",
       "    }\n",
       "</style>\n",
       "<table border=\"1\" class=\"dataframe\">\n",
       "  <thead>\n",
       "    <tr style=\"text-align: right;\">\n",
       "      <th></th>\n",
       "      <th>Images_path</th>\n",
       "      <th>Label</th>\n",
       "    </tr>\n",
       "  </thead>\n",
       "  <tbody>\n",
       "    <tr>\n",
       "      <th>0</th>\n",
       "      <td>/kaggle/input/dog-and-cat-classification-datas...</td>\n",
       "      <td>1</td>\n",
       "    </tr>\n",
       "    <tr>\n",
       "      <th>1</th>\n",
       "      <td>/kaggle/input/dog-and-cat-classification-datas...</td>\n",
       "      <td>1</td>\n",
       "    </tr>\n",
       "    <tr>\n",
       "      <th>2</th>\n",
       "      <td>/kaggle/input/dog-and-cat-classification-datas...</td>\n",
       "      <td>1</td>\n",
       "    </tr>\n",
       "    <tr>\n",
       "      <th>3</th>\n",
       "      <td>/kaggle/input/dog-and-cat-classification-datas...</td>\n",
       "      <td>1</td>\n",
       "    </tr>\n",
       "    <tr>\n",
       "      <th>4</th>\n",
       "      <td>/kaggle/input/dog-and-cat-classification-datas...</td>\n",
       "      <td>1</td>\n",
       "    </tr>\n",
       "  </tbody>\n",
       "</table>\n",
       "</div>"
      ],
      "text/plain": [
       "                                         Images_path Label\n",
       "0  /kaggle/input/dog-and-cat-classification-datas...     1\n",
       "1  /kaggle/input/dog-and-cat-classification-datas...     1\n",
       "2  /kaggle/input/dog-and-cat-classification-datas...     1\n",
       "3  /kaggle/input/dog-and-cat-classification-datas...     1\n",
       "4  /kaggle/input/dog-and-cat-classification-datas...     1"
      ]
     },
     "execution_count": 5,
     "metadata": {},
     "output_type": "execute_result"
    }
   ],
   "source": [
    "df = pd.DataFrame({\"Images_path\": input_path,\"Label\": label})\n",
    "df['Label'] = df['Label'].astype('str')\n",
    "df.head()"
   ]
  },
  {
   "cell_type": "markdown",
   "id": "e006362c",
   "metadata": {
    "papermill": {
     "duration": 0.00771,
     "end_time": "2023-11-29T13:22:01.158836",
     "exception": false,
     "start_time": "2023-11-29T13:22:01.151126",
     "status": "completed"
    },
    "tags": []
   },
   "source": [
    "#### Check only `.jpg` file there into the dataset"
   ]
  },
  {
   "cell_type": "code",
   "execution_count": 6,
   "id": "41a9e654",
   "metadata": {
    "execution": {
     "iopub.execute_input": "2023-11-29T13:22:01.176227Z",
     "iopub.status.busy": "2023-11-29T13:22:01.175912Z",
     "iopub.status.idle": "2023-11-29T13:22:01.185749Z",
     "shell.execute_reply": "2023-11-29T13:22:01.184911Z"
    },
    "papermill": {
     "duration": 0.021151,
     "end_time": "2023-11-29T13:22:01.187920",
     "exception": false,
     "start_time": "2023-11-29T13:22:01.166769",
     "status": "completed"
    },
    "tags": []
   },
   "outputs": [],
   "source": [
    "for i in df['Images_path']:\n",
    "    if '.jpg' not in i:\n",
    "        print(i)"
   ]
  },
  {
   "cell_type": "code",
   "execution_count": 7,
   "id": "fec2c65e",
   "metadata": {
    "execution": {
     "iopub.execute_input": "2023-11-29T13:22:01.204446Z",
     "iopub.status.busy": "2023-11-29T13:22:01.204138Z",
     "iopub.status.idle": "2023-11-29T13:24:03.729060Z",
     "shell.execute_reply": "2023-11-29T13:24:03.728151Z"
    },
    "papermill": {
     "duration": 122.536006,
     "end_time": "2023-11-29T13:24:03.731814",
     "exception": false,
     "start_time": "2023-11-29T13:22:01.195808",
     "status": "completed"
    },
    "tags": []
   },
   "outputs": [],
   "source": [
    "l = []\n",
    "for image in df['Images_path']:\n",
    "    try:\n",
    "        img = PIL.Image.open(image)\n",
    "    except:\n",
    "        l.append(image)"
   ]
  },
  {
   "cell_type": "code",
   "execution_count": 8,
   "id": "0b30d99b",
   "metadata": {
    "execution": {
     "iopub.execute_input": "2023-11-29T13:24:03.748989Z",
     "iopub.status.busy": "2023-11-29T13:24:03.748359Z",
     "iopub.status.idle": "2023-11-29T13:24:03.754416Z",
     "shell.execute_reply": "2023-11-29T13:24:03.753439Z"
    },
    "papermill": {
     "duration": 0.016534,
     "end_time": "2023-11-29T13:24:03.756540",
     "exception": false,
     "start_time": "2023-11-29T13:24:03.740006",
     "status": "completed"
    },
    "tags": []
   },
   "outputs": [
    {
     "data": {
      "text/plain": [
       "[]"
      ]
     },
     "execution_count": 8,
     "metadata": {},
     "output_type": "execute_result"
    }
   ],
   "source": [
    "l[:5]"
   ]
  },
  {
   "cell_type": "code",
   "execution_count": 9,
   "id": "e6f98b30",
   "metadata": {
    "execution": {
     "iopub.execute_input": "2023-11-29T13:24:03.773040Z",
     "iopub.status.busy": "2023-11-29T13:24:03.772760Z",
     "iopub.status.idle": "2023-11-29T13:24:03.806400Z",
     "shell.execute_reply": "2023-11-29T13:24:03.805386Z"
    },
    "papermill": {
     "duration": 0.044413,
     "end_time": "2023-11-29T13:24:03.808611",
     "exception": false,
     "start_time": "2023-11-29T13:24:03.764198",
     "status": "completed"
    },
    "tags": []
   },
   "outputs": [
    {
     "name": "stdout",
     "output_type": "stream",
     "text": [
      "0\n"
     ]
    },
    {
     "data": {
      "text/plain": [
       "<Figure size 1000x1000 with 0 Axes>"
      ]
     },
     "metadata": {},
     "output_type": "display_data"
    }
   ],
   "source": [
    "# to display grid of images\n",
    "import random\n",
    "\n",
    "plt.figure(figsize=(10,10))\n",
    "temp = df[df['Label']==1]['Images_path']\n",
    "start = random.randint(0, len(temp))\n",
    "print(start)\n",
    "files = temp[start:start+10]\n",
    "\n",
    "for index, file in enumerate(files):\n",
    "    plt.subplot(2,5, index+1)\n",
    "    img = load_img(file)\n",
    "    img = np.array(img)\n",
    "    plt.imshow(img)\n",
    "    plt.title('Dogs')\n",
    "    plt.axis('off')"
   ]
  },
  {
   "cell_type": "code",
   "execution_count": 10,
   "id": "b27b03b2",
   "metadata": {
    "execution": {
     "iopub.execute_input": "2023-11-29T13:24:03.827771Z",
     "iopub.status.busy": "2023-11-29T13:24:03.827485Z",
     "iopub.status.idle": "2023-11-29T13:24:03.865028Z",
     "shell.execute_reply": "2023-11-29T13:24:03.864155Z"
    },
    "papermill": {
     "duration": 0.048563,
     "end_time": "2023-11-29T13:24:03.867079",
     "exception": false,
     "start_time": "2023-11-29T13:24:03.818516",
     "status": "completed"
    },
    "tags": []
   },
   "outputs": [
    {
     "data": {
      "text/plain": [
       "<Figure size 2500x2500 with 0 Axes>"
      ]
     },
     "metadata": {},
     "output_type": "display_data"
    }
   ],
   "source": [
    "# to display grid of images\n",
    "plt.figure(figsize=(25,25))\n",
    "temp = df[df['Label']==0]['Images_path']\n",
    "start = random.randint(0, len(temp))\n",
    "files = temp[start:start+10]\n",
    "\n",
    "for index, file in enumerate(files):\n",
    "    plt.subplot(2,5, index+1)\n",
    "    img = load_img(file)\n",
    "    img = np.array(img)\n",
    "    plt.imshow(img)\n",
    "    plt.title('Cats')\n",
    "    plt.axis('off')"
   ]
  },
  {
   "cell_type": "markdown",
   "id": "4b01c7e2",
   "metadata": {
    "papermill": {
     "duration": 0.007901,
     "end_time": "2023-11-29T13:24:03.883083",
     "exception": false,
     "start_time": "2023-11-29T13:24:03.875182",
     "status": "completed"
    },
    "tags": []
   },
   "source": [
    "# Spliting the dataset into training and testing"
   ]
  },
  {
   "cell_type": "code",
   "execution_count": 11,
   "id": "7581cb6a",
   "metadata": {
    "execution": {
     "iopub.execute_input": "2023-11-29T13:24:03.901216Z",
     "iopub.status.busy": "2023-11-29T13:24:03.900877Z",
     "iopub.status.idle": "2023-11-29T13:24:03.910862Z",
     "shell.execute_reply": "2023-11-29T13:24:03.910167Z"
    },
    "papermill": {
     "duration": 0.021179,
     "end_time": "2023-11-29T13:24:03.912903",
     "exception": false,
     "start_time": "2023-11-29T13:24:03.891724",
     "status": "completed"
    },
    "tags": []
   },
   "outputs": [],
   "source": [
    "train, test = train_test_split(df, test_size = 0.2, random_state=42)"
   ]
  },
  {
   "cell_type": "markdown",
   "id": "fe826095",
   "metadata": {
    "papermill": {
     "duration": 0.007869,
     "end_time": "2023-11-29T13:24:03.928942",
     "exception": false,
     "start_time": "2023-11-29T13:24:03.921073",
     "status": "completed"
    },
    "tags": []
   },
   "source": [
    "# Create DataGenerator for the images"
   ]
  },
  {
   "cell_type": "code",
   "execution_count": 12,
   "id": "3d82a97d",
   "metadata": {
    "execution": {
     "iopub.execute_input": "2023-11-29T13:24:03.946513Z",
     "iopub.status.busy": "2023-11-29T13:24:03.946183Z",
     "iopub.status.idle": "2023-11-29T13:24:03.951349Z",
     "shell.execute_reply": "2023-11-29T13:24:03.950439Z"
    },
    "papermill": {
     "duration": 0.016298,
     "end_time": "2023-11-29T13:24:03.953516",
     "exception": false,
     "start_time": "2023-11-29T13:24:03.937218",
     "status": "completed"
    },
    "tags": []
   },
   "outputs": [],
   "source": [
    "# training data\n",
    "train_generator = ImageDataGenerator(\n",
    "    rescale=1.0/255,\n",
    "    rotation_range=45,\n",
    "    shear_range=0.2,\n",
    "    zoom_range=0.2,\n",
    "    horizontal_flip=True,\n",
    "    fill_mode='nearest'\n",
    ")\n",
    "\n",
    "# Validation generator\n",
    "val_generator = ImageDataGenerator(\n",
    "    rescale=1.0/255\n",
    ")"
   ]
  },
  {
   "cell_type": "code",
   "execution_count": 13,
   "id": "d10bad89",
   "metadata": {
    "execution": {
     "iopub.execute_input": "2023-11-29T13:24:03.971472Z",
     "iopub.status.busy": "2023-11-29T13:24:03.971164Z",
     "iopub.status.idle": "2023-11-29T13:24:34.916935Z",
     "shell.execute_reply": "2023-11-29T13:24:34.915945Z"
    },
    "papermill": {
     "duration": 30.962439,
     "end_time": "2023-11-29T13:24:34.924297",
     "exception": false,
     "start_time": "2023-11-29T13:24:03.961858",
     "status": "completed"
    },
    "tags": []
   },
   "outputs": [
    {
     "name": "stdout",
     "output_type": "stream",
     "text": [
      "Found 19998 validated image filenames belonging to 2 classes.\n",
      "Found 5000 validated image filenames belonging to 2 classes.\n"
     ]
    }
   ],
   "source": [
    "# train and validation iterator\n",
    "train_iterator = train_generator.flow_from_dataframe(\n",
    "    train, \n",
    "    x_col='Images_path', \n",
    "    y_col='Label', \n",
    "    target_size=(128,128), \n",
    "    batch_size=512, \n",
    "    class_mode='binary'\n",
    ")\n",
    "\n",
    "val_iterator = val_generator.flow_from_dataframe(\n",
    "    test,\n",
    "    x_col='Images_path', \n",
    "    y_col='Label', \n",
    "    target_size=(128,128), \n",
    "    batch_size=512, \n",
    "    class_mode='binary'\n",
    ")"
   ]
  },
  {
   "cell_type": "markdown",
   "id": "00f489aa",
   "metadata": {
    "papermill": {
     "duration": 0.007819,
     "end_time": "2023-11-29T13:24:34.941460",
     "exception": false,
     "start_time": "2023-11-29T13:24:34.933641",
     "status": "completed"
    },
    "tags": []
   },
   "source": [
    "# Modeling - CNN"
   ]
  },
  {
   "cell_type": "code",
   "execution_count": 14,
   "id": "389108af",
   "metadata": {
    "execution": {
     "iopub.execute_input": "2023-11-29T13:24:34.958519Z",
     "iopub.status.busy": "2023-11-29T13:24:34.958166Z",
     "iopub.status.idle": "2023-11-29T13:24:41.478891Z",
     "shell.execute_reply": "2023-11-29T13:24:41.477835Z"
    },
    "papermill": {
     "duration": 6.532125,
     "end_time": "2023-11-29T13:24:41.481474",
     "exception": false,
     "start_time": "2023-11-29T13:24:34.949349",
     "status": "completed"
    },
    "tags": []
   },
   "outputs": [],
   "source": [
    "model = Sequential()\n",
    "\n",
    "model.add(Conv2D(32, (3,3), activation='relu', input_shape=(128, 128, 3)))\n",
    "model.add(MaxPooling2D(2,2))\n",
    "\n",
    "model.add(Conv2D(64, (3,3), activation='relu'))\n",
    "model.add(MaxPooling2D(2,2))\n",
    "\n",
    "model.add(Conv2D(128, (3,3), activation='relu'))\n",
    "model.add(MaxPooling2D(2,2))\n",
    "\n",
    "model.add(Conv2D(128, (3,3), activation='relu'))\n",
    "model.add(MaxPooling2D(2,2))\n",
    "\n",
    "model.add(Flatten())\n",
    "model.add(Dense(512, activation='relu'))\n",
    "model.add(Dense(1, activation='sigmoid'))"
   ]
  },
  {
   "cell_type": "code",
   "execution_count": 15,
   "id": "690abe8b",
   "metadata": {
    "execution": {
     "iopub.execute_input": "2023-11-29T13:24:41.499699Z",
     "iopub.status.busy": "2023-11-29T13:24:41.499348Z",
     "iopub.status.idle": "2023-11-29T13:24:41.514900Z",
     "shell.execute_reply": "2023-11-29T13:24:41.514119Z"
    },
    "papermill": {
     "duration": 0.027285,
     "end_time": "2023-11-29T13:24:41.517264",
     "exception": false,
     "start_time": "2023-11-29T13:24:41.489979",
     "status": "completed"
    },
    "tags": []
   },
   "outputs": [],
   "source": [
    "model.compile(\n",
    "    optimizer='adam',\n",
    "    loss='binary_crossentropy',\n",
    "    metrics=['accuracy']\n",
    ")"
   ]
  },
  {
   "cell_type": "code",
   "execution_count": 16,
   "id": "eab0c45e",
   "metadata": {
    "execution": {
     "iopub.execute_input": "2023-11-29T13:24:41.534071Z",
     "iopub.status.busy": "2023-11-29T13:24:41.533784Z",
     "iopub.status.idle": "2023-11-29T13:24:41.570982Z",
     "shell.execute_reply": "2023-11-29T13:24:41.569983Z"
    },
    "papermill": {
     "duration": 0.05572,
     "end_time": "2023-11-29T13:24:41.580830",
     "exception": false,
     "start_time": "2023-11-29T13:24:41.525110",
     "status": "completed"
    },
    "tags": []
   },
   "outputs": [
    {
     "name": "stdout",
     "output_type": "stream",
     "text": [
      "Model: \"sequential\"\n",
      "_________________________________________________________________\n",
      " Layer (type)                Output Shape              Param #   \n",
      "=================================================================\n",
      " conv2d (Conv2D)             (None, 126, 126, 32)      896       \n",
      "                                                                 \n",
      " max_pooling2d (MaxPooling2D  (None, 63, 63, 32)       0         \n",
      " )                                                               \n",
      "                                                                 \n",
      " conv2d_1 (Conv2D)           (None, 61, 61, 64)        18496     \n",
      "                                                                 \n",
      " max_pooling2d_1 (MaxPooling  (None, 30, 30, 64)       0         \n",
      " 2D)                                                             \n",
      "                                                                 \n",
      " conv2d_2 (Conv2D)           (None, 28, 28, 128)       73856     \n",
      "                                                                 \n",
      " max_pooling2d_2 (MaxPooling  (None, 14, 14, 128)      0         \n",
      " 2D)                                                             \n",
      "                                                                 \n",
      " conv2d_3 (Conv2D)           (None, 12, 12, 128)       147584    \n",
      "                                                                 \n",
      " max_pooling2d_3 (MaxPooling  (None, 6, 6, 128)        0         \n",
      " 2D)                                                             \n",
      "                                                                 \n",
      " flatten (Flatten)           (None, 4608)              0         \n",
      "                                                                 \n",
      " dense (Dense)               (None, 512)               2359808   \n",
      "                                                                 \n",
      " dense_1 (Dense)             (None, 1)                 513       \n",
      "                                                                 \n",
      "=================================================================\n",
      "Total params: 2,601,153\n",
      "Trainable params: 2,601,153\n",
      "Non-trainable params: 0\n",
      "_________________________________________________________________\n"
     ]
    }
   ],
   "source": [
    "model.summary()"
   ]
  },
  {
   "cell_type": "code",
   "execution_count": 17,
   "id": "287dd1bc",
   "metadata": {
    "execution": {
     "iopub.execute_input": "2023-11-29T13:24:41.603056Z",
     "iopub.status.busy": "2023-11-29T13:24:41.602766Z",
     "iopub.status.idle": "2023-11-29T13:49:56.044918Z",
     "shell.execute_reply": "2023-11-29T13:49:56.044048Z"
    },
    "papermill": {
     "duration": 1514.455362,
     "end_time": "2023-11-29T13:49:56.046904",
     "exception": false,
     "start_time": "2023-11-29T13:24:41.591542",
     "status": "completed"
    },
    "tags": []
   },
   "outputs": [
    {
     "name": "stdout",
     "output_type": "stream",
     "text": [
      "Epoch 1/10\n",
      "40/40 [==============================] - 161s 4s/step - loss: 0.6890 - accuracy: 0.5558 - val_loss: 0.6819 - val_accuracy: 0.5808\n",
      "Epoch 2/10\n",
      "40/40 [==============================] - 149s 4s/step - loss: 0.6375 - accuracy: 0.6348 - val_loss: 0.6229 - val_accuracy: 0.6424\n",
      "Epoch 3/10\n",
      "40/40 [==============================] - 147s 4s/step - loss: 0.5845 - accuracy: 0.6873 - val_loss: 0.5483 - val_accuracy: 0.7218\n",
      "Epoch 4/10\n",
      "40/40 [==============================] - 155s 4s/step - loss: 0.5645 - accuracy: 0.7051 - val_loss: 0.5303 - val_accuracy: 0.7392\n",
      "Epoch 5/10\n",
      "40/40 [==============================] - 149s 4s/step - loss: 0.5422 - accuracy: 0.7279 - val_loss: 0.5233 - val_accuracy: 0.7494\n",
      "Epoch 6/10\n",
      "40/40 [==============================] - 145s 4s/step - loss: 0.4970 - accuracy: 0.7577 - val_loss: 0.4645 - val_accuracy: 0.7768\n",
      "Epoch 7/10\n",
      "40/40 [==============================] - 140s 4s/step - loss: 0.4668 - accuracy: 0.7757 - val_loss: 0.4851 - val_accuracy: 0.7588\n",
      "Epoch 8/10\n",
      "40/40 [==============================] - 142s 4s/step - loss: 0.4478 - accuracy: 0.7896 - val_loss: 0.7326 - val_accuracy: 0.6734\n",
      "Epoch 9/10\n",
      "40/40 [==============================] - 142s 4s/step - loss: 0.5017 - accuracy: 0.7597 - val_loss: 0.4279 - val_accuracy: 0.8018\n",
      "Epoch 10/10\n",
      "40/40 [==============================] - 140s 3s/step - loss: 0.4546 - accuracy: 0.7879 - val_loss: 0.4245 - val_accuracy: 0.8104\n"
     ]
    }
   ],
   "source": [
    "history = model.fit(\n",
    "    train_iterator,\n",
    "    epochs=10,\n",
    "    validation_data=val_iterator\n",
    ")"
   ]
  },
  {
   "cell_type": "markdown",
   "id": "bca32c9b",
   "metadata": {
    "papermill": {
     "duration": 0.040207,
     "end_time": "2023-11-29T13:49:56.127984",
     "exception": false,
     "start_time": "2023-11-29T13:49:56.087777",
     "status": "completed"
    },
    "tags": []
   },
   "source": [
    "# Visualization of Results"
   ]
  },
  {
   "cell_type": "code",
   "execution_count": 18,
   "id": "34f7e7d8",
   "metadata": {
    "execution": {
     "iopub.execute_input": "2023-11-29T13:49:56.214271Z",
     "iopub.status.busy": "2023-11-29T13:49:56.213972Z",
     "iopub.status.idle": "2023-11-29T13:49:56.860271Z",
     "shell.execute_reply": "2023-11-29T13:49:56.859278Z"
    },
    "papermill": {
     "duration": 0.694333,
     "end_time": "2023-11-29T13:49:56.862526",
     "exception": false,
     "start_time": "2023-11-29T13:49:56.168193",
     "status": "completed"
    },
    "tags": []
   },
   "outputs": [
    {
     "data": {
      "image/png": "[encoded data removed]",
      "text/plain": [
       "<Figure size 640x480 with 1 Axes>"
      ]
     },
     "metadata": {},
     "output_type": "display_data"
    },
    {
     "data": {
      "image/png": "[encoded data removed]",
      "text/plain": [
       "<Figure size 640x480 with 1 Axes>"
      ]
     },
     "metadata": {},
     "output_type": "display_data"
    }
   ],
   "source": [
    "acc = history.history['accuracy']\n",
    "val_acc = history.history['val_accuracy']\n",
    "epochs = range(len(acc))\n",
    "\n",
    "plt.plot(epochs, acc, 'b', label='Training Accuracy')\n",
    "plt.plot(epochs, val_acc, 'r', label='Validation Accuracy')\n",
    "plt.title('Accuracy Graph')\n",
    "plt.legend()\n",
    "plt.figure()\n",
    "\n",
    "loss = history.history['loss']\n",
    "val_loss = history.history['val_loss']\n",
    "plt.plot(epochs, loss, 'b', label='Training Loss')\n",
    "plt.plot(epochs, val_loss, 'r', label='Validation Loss')\n",
    "plt.title('Loss Graph')\n",
    "plt.legend()\n",
    "plt.show()"
   ]
  },
  {
   "cell_type": "code",
   "execution_count": null,
   "id": "cbf0faa3",
   "metadata": {
    "papermill": {
     "duration": 0.043305,
     "end_time": "2023-11-29T13:49:56.949635",
     "exception": false,
     "start_time": "2023-11-29T13:49:56.906330",
     "status": "completed"
    },
    "tags": []
   },
   "outputs": [],
   "source": []
  }
 ],
 "metadata": {
  "kaggle": {
   "accelerator": "nvidiaTeslaT4",
   "dataSources": [
    {
     "datasetId": 3829311,
     "sourceId": 6633136,
     "sourceType": "datasetVersion"
    }
   ],
   "dockerImageVersionId": 30559,
   "isGpuEnabled": true,
   "isInternetEnabled": true,
   "language": "python",
   "sourceType": "notebook"
  },
  "kernelspec": {
   "display_name": "Python 3",
   "language": "python",
   "name": "python3"
  },
  "language_info": {
   "codemirror_mode": {
    "name": "ipython",
    "version": 3
   },
   "file_extension": ".py",
   "mimetype": "text/x-python",
   "name": "python",
   "nbconvert_exporter": "python",
   "pygments_lexer": "ipython3",
   "version": "3.10.12"
  },
  "papermill": {
   "default_parameters": {},
   "duration": 1716.126755,
   "end_time": "2023-11-29T13:49:59.999585",
   "environment_variables": {},
   "exception": null,
   "input_path": "__notebook__.ipynb",
   "output_path": "__notebook__.ipynb",
   "parameters": {},
   "start_time": "2023-11-29T13:21:23.872830",
   "version": "2.4.0"
  }
 },
 "nbformat": 4,
 "nbformat_minor": 5
}
